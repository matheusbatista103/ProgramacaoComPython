{
  "nbformat": 4,
  "nbformat_minor": 0,
  "metadata": {
    "colab": {
      "provenance": [],
      "authorship_tag": "ABX9TyOtY/2pRdWG6izfETH6s2OI",
      "include_colab_link": true
    },
    "kernelspec": {
      "name": "python3",
      "display_name": "Python 3"
    },
    "language_info": {
      "name": "python"
    }
  },
  "cells": [
    {
      "cell_type": "markdown",
      "metadata": {
        "id": "view-in-github",
        "colab_type": "text"
      },
      "source": [
        "<a href=\"https://colab.research.google.com/github/matheusbatista103/ProgramacaoComPython/blob/main/aulas/Resolu%C3%A7%C3%A3oprova.ipynb\" target=\"_parent\"><img src=\"https://colab.research.google.com/assets/colab-badge.svg\" alt=\"Open In Colab\"/></a>"
      ]
    },
    {
      "cell_type": "code",
      "source": [
        "import random\n",
        "secreto = random.randint(1, 100)\n",
        "resp = 0\n",
        "contador = 0\n",
        "pont = 20\n",
        "print(secreto)\n",
        "while resp != secreto:\n",
        "    resp = int(input(\"Digite um número entre 1 e 100: \"))\n",
        "    contador += 1\n",
        "    pont -= 1\n",
        "    print(\"Você tem\", pont, \"pontos\")\n",
        "    if pont == 0:\n",
        "      print(\"Você não tem mais tentativas!\")\n",
        "      break\n",
        "    if resp < 1 or resp > 100:\n",
        "      print(\"Você deve digitar um número entre 1 e 100!\")\n",
        "      continue\n",
        "    if resp < secreto:\n",
        "      print(\"Você errou! O número secreto é maior que\", resp)\n",
        "      calc = secreto - resp\n",
        "      if calc <= 5:\n",
        "        print(\"Você está quente!\")\n",
        "      elif calc <= 10 and calc > 5:\n",
        "        print(\"Você está esquentando!\")\n",
        "      elif calc > 10 and calc <= 20:\n",
        "        print(\"Você está frio!\")\n",
        "      elif calc > 20:\n",
        "        print(\"Você está congelando\")\n",
        "    if resp > secreto:\n",
        "      print(\"Você errou! O número secreto é menor que\", resp)\n",
        "      calc = resp - secreto\n",
        "      if calc < 5:\n",
        "        print(\"Você está quente!\")\n",
        "      elif calc < 10 and calc > 5:\n",
        "        print(\"Você está esquentando!\")\n",
        "      elif calc > 10 and calc < 20:\n",
        "        print(\"Você está frio!\")\n",
        "      elif calc > 20:\n",
        "        print(\"Você está congelando\")\n",
        "      continue\n",
        "    if resp == secreto:\n",
        "        print(\"Você acertou!\")\n",
        "        print(\"Você tentou\", contador, \"vezes\")\n",
        "        break"
      ],
      "metadata": {
        "colab": {
          "base_uri": "https://localhost:8080/",
          "height": 512
        },
        "id": "lKJDZ8-FRiu1",
        "outputId": "ca85c05e-bea0-4f6a-f310-956e60fad4c4"
      },
      "execution_count": 4,
      "outputs": [
        {
          "output_type": "stream",
          "name": "stdout",
          "text": [
            "5\n",
            "Digite um número entre 1 e 100: 1\n",
            "Você tem 19 pontos\n",
            "Você errou! O número secreto é maior que 1\n",
            "Você está quente!\n",
            "Digite um número entre 1 e 100: 6\n",
            "Você tem 18 pontos\n",
            "Você errou! O número secreto é menor que 6\n",
            "Você está quente!\n"
          ]
        },
        {
          "output_type": "error",
          "ename": "KeyboardInterrupt",
          "evalue": "Interrupted by user",
          "traceback": [
            "\u001b[0;31m---------------------------------------------------------------------------\u001b[0m",
            "\u001b[0;31mKeyboardInterrupt\u001b[0m                         Traceback (most recent call last)",
            "\u001b[0;32m<ipython-input-4-3b3296a78f4f>\u001b[0m in \u001b[0;36m<cell line: 7>\u001b[0;34m()\u001b[0m\n\u001b[1;32m      6\u001b[0m \u001b[0mprint\u001b[0m\u001b[0;34m(\u001b[0m\u001b[0msecreto\u001b[0m\u001b[0;34m)\u001b[0m\u001b[0;34m\u001b[0m\u001b[0;34m\u001b[0m\u001b[0m\n\u001b[1;32m      7\u001b[0m \u001b[0;32mwhile\u001b[0m \u001b[0mresp\u001b[0m \u001b[0;34m!=\u001b[0m \u001b[0msecreto\u001b[0m\u001b[0;34m:\u001b[0m\u001b[0;34m\u001b[0m\u001b[0;34m\u001b[0m\u001b[0m\n\u001b[0;32m----> 8\u001b[0;31m     \u001b[0mresp\u001b[0m \u001b[0;34m=\u001b[0m \u001b[0mint\u001b[0m\u001b[0;34m(\u001b[0m\u001b[0minput\u001b[0m\u001b[0;34m(\u001b[0m\u001b[0;34m\"Digite um número entre 1 e 100: \"\u001b[0m\u001b[0;34m)\u001b[0m\u001b[0;34m)\u001b[0m\u001b[0;34m\u001b[0m\u001b[0;34m\u001b[0m\u001b[0m\n\u001b[0m\u001b[1;32m      9\u001b[0m     \u001b[0mcontador\u001b[0m \u001b[0;34m+=\u001b[0m \u001b[0;36m1\u001b[0m\u001b[0;34m\u001b[0m\u001b[0;34m\u001b[0m\u001b[0m\n\u001b[1;32m     10\u001b[0m     \u001b[0mpont\u001b[0m \u001b[0;34m-=\u001b[0m \u001b[0;36m1\u001b[0m\u001b[0;34m\u001b[0m\u001b[0;34m\u001b[0m\u001b[0m\n",
            "\u001b[0;32m/usr/local/lib/python3.10/dist-packages/ipykernel/kernelbase.py\u001b[0m in \u001b[0;36mraw_input\u001b[0;34m(self, prompt)\u001b[0m\n\u001b[1;32m    849\u001b[0m                 \u001b[0;34m\"raw_input was called, but this frontend does not support input requests.\"\u001b[0m\u001b[0;34m\u001b[0m\u001b[0;34m\u001b[0m\u001b[0m\n\u001b[1;32m    850\u001b[0m             )\n\u001b[0;32m--> 851\u001b[0;31m         return self._input_request(str(prompt),\n\u001b[0m\u001b[1;32m    852\u001b[0m             \u001b[0mself\u001b[0m\u001b[0;34m.\u001b[0m\u001b[0m_parent_ident\u001b[0m\u001b[0;34m,\u001b[0m\u001b[0;34m\u001b[0m\u001b[0;34m\u001b[0m\u001b[0m\n\u001b[1;32m    853\u001b[0m             \u001b[0mself\u001b[0m\u001b[0;34m.\u001b[0m\u001b[0m_parent_header\u001b[0m\u001b[0;34m,\u001b[0m\u001b[0;34m\u001b[0m\u001b[0;34m\u001b[0m\u001b[0m\n",
            "\u001b[0;32m/usr/local/lib/python3.10/dist-packages/ipykernel/kernelbase.py\u001b[0m in \u001b[0;36m_input_request\u001b[0;34m(self, prompt, ident, parent, password)\u001b[0m\n\u001b[1;32m    893\u001b[0m             \u001b[0;32mexcept\u001b[0m \u001b[0mKeyboardInterrupt\u001b[0m\u001b[0;34m:\u001b[0m\u001b[0;34m\u001b[0m\u001b[0;34m\u001b[0m\u001b[0m\n\u001b[1;32m    894\u001b[0m                 \u001b[0;31m# re-raise KeyboardInterrupt, to truncate traceback\u001b[0m\u001b[0;34m\u001b[0m\u001b[0;34m\u001b[0m\u001b[0m\n\u001b[0;32m--> 895\u001b[0;31m                 \u001b[0;32mraise\u001b[0m \u001b[0mKeyboardInterrupt\u001b[0m\u001b[0;34m(\u001b[0m\u001b[0;34m\"Interrupted by user\"\u001b[0m\u001b[0;34m)\u001b[0m \u001b[0;32mfrom\u001b[0m \u001b[0;32mNone\u001b[0m\u001b[0;34m\u001b[0m\u001b[0;34m\u001b[0m\u001b[0m\n\u001b[0m\u001b[1;32m    896\u001b[0m             \u001b[0;32mexcept\u001b[0m \u001b[0mException\u001b[0m \u001b[0;32mas\u001b[0m \u001b[0me\u001b[0m\u001b[0;34m:\u001b[0m\u001b[0;34m\u001b[0m\u001b[0;34m\u001b[0m\u001b[0m\n\u001b[1;32m    897\u001b[0m                 \u001b[0mself\u001b[0m\u001b[0;34m.\u001b[0m\u001b[0mlog\u001b[0m\u001b[0;34m.\u001b[0m\u001b[0mwarning\u001b[0m\u001b[0;34m(\u001b[0m\u001b[0;34m\"Invalid Message:\"\u001b[0m\u001b[0;34m,\u001b[0m \u001b[0mexc_info\u001b[0m\u001b[0;34m=\u001b[0m\u001b[0;32mTrue\u001b[0m\u001b[0;34m)\u001b[0m\u001b[0;34m\u001b[0m\u001b[0;34m\u001b[0m\u001b[0m\n",
            "\u001b[0;31mKeyboardInterrupt\u001b[0m: Interrupted by user"
          ]
        }
      ]
    },
    {
      "cell_type": "code",
      "source": [
        "total = 0\n",
        "print(\"Digite suas compras!\")\n",
        "print(\"Digite 0 para sair\")\n",
        "while True:\n",
        "  print(\"Valor:\")\n",
        "  valor = int(input())\n",
        "  if valor == 0:\n",
        "    break\n",
        "  total += valor\n",
        "print(\"Qual o pagamento?\")\n",
        "print(\"1 - A vista\")\n",
        "print(\"2 - No cartão\")\n",
        "pag = float(input())\n",
        "if pag == 1:\n",
        "  vista = total*0.95\n",
        "  print(\"O valor a ser pago é\", vista)\n",
        "elif pag == 2:\n",
        "  cartao = total*1\n",
        "  print(\"O valor a ser pago é\", cartao)\n",
        "else:\n",
        "  print(\"Digite um valor válido!\")"
      ],
      "metadata": {
        "colab": {
          "base_uri": "https://localhost:8080/"
        },
        "id": "0W0Aw1bYpk_G",
        "outputId": "32ed2c78-0564-4e50-f448-d590a1f1fed4"
      },
      "execution_count": null,
      "outputs": [
        {
          "output_type": "stream",
          "name": "stdout",
          "text": [
            "Digite suas compras!\n",
            "Digite 0 para sair\n",
            "Valor:\n",
            "20\n",
            "Valor:\n",
            "20\n",
            "Valor:\n",
            "20\n",
            "Valor:\n",
            "20\n",
            "Valor:\n",
            "20\n",
            "Valor:\n",
            "0\n",
            "Qual o pagamento?\n",
            "1 - A vista\n",
            "2 - No cartão\n",
            "1\n",
            "O valor a ser pago é 95.0\n"
          ]
        }
      ]
    }
  ]
}