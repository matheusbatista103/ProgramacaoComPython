{
 "cells": [
  {
   "cell_type": "markdown",
   "id": "140e397c",
   "metadata": {},
   "source": [
    "1) Crie um jogo onde o usuário deve adivinhar um número secreto entre 1 e 100. O programa deve fornecer dicas sobre se o palpite do usuário está muito alto ou muito baixo. \n",
    "O jogo deve continuar até que o usuário adivinhe corretamente ou escolha sair."
   ]
  },
  {
   "cell_type": "code",
   "execution_count": null,
   "id": "0384fc5d",
   "metadata": {},
   "outputs": [
    {
     "name": "stdout",
     "output_type": "stream",
     "text": [
      "Escolha um numero de 1 a 100\n",
      "Ou digite 'sair' para sair\n",
      "Numero: 60\n",
      "Esse numero não existe ou não esta na lista\n"
     ]
    }
   ],
   "source": [
    "num = 40\n",
    "print(\"Escolha um numero de 1 a 100\")\n",
    "print(\"Ou digite 'sair' para sair\")\n",
    "while esc != num:\n",
    "    esc = input(\"Numero: \")\n",
    "    if esc >= \"0\" and esc <= \"20\":\n",
    "        print(\"Muito longe!\")\n",
    "    elif esc >= \"21\" and esc <= \"29\":\n",
    "        print(\"Longe!\")\n",
    "    elif esc >= \"30\" and esc <= \"39\":\n",
    "        print(\"Perto!\")\n",
    "    elif esc == \"40\":\n",
    "        print(\"Numero correto!\")\n",
    "        break\n",
    "    elif esc >= \"41\" and esc <= \"49\":\n",
    "        print(\"Perto!\")\n",
    "    elif esc >= \"50\" and esc <= \"59\": \n",
    "        print(\"Longe!\")\n",
    "    elif esc >= \"60\" and esc <= \"101\":\n",
    "        print(\"Muito longe\")\n",
    "    elif esc == \"sair\":\n",
    "        print(\"você escolheu sair\")\n",
    "        break\n",
    "    else:\n",
    "        print(\"Esse numero não existe ou não esta na lista\")"
   ]
  },
  {
   "cell_type": "markdown",
   "id": "2aff0bdb",
   "metadata": {},
   "source": [
    "2)Crie um programa que simula um caixa de supermercado. O usuário deve inserir o preço de cada item comprado e, após inserir todos os itens, o programa deve calcular o total da compra e aplicar um desconto de 5%, se o valor for pago a vista, caso contrário cobrança normal.\n",
    "Execute o programa até o usuário disser que deseja continuar. "
   ]
  },
  {
   "cell_type": "code",
   "execution_count": 114,
   "id": "bc4f436a",
   "metadata": {},
   "outputs": [
    {
     "name": "stdout",
     "output_type": "stream",
     "text": [
      "Caixa de supermercado.\n",
      "Passe suas compras abaixo\n",
      "Qual o preço do produto? digite '0' para parar 100\n",
      "Qual o preço do produto? digite '0' para parar 200\n",
      "Qual o preço do produto? digite '0' para parar 0\n",
      "Você quer que seja a vista?\n",
      "1 = sim\n",
      "2 = não\n",
      "2\n",
      "O total foi 300.0\n"
     ]
    }
   ],
   "source": [
    "preco = 0\n",
    "preco2 = 0\n",
    "print(\"Caixa de supermercado.\")\n",
    "print(\"Passe suas compras abaixo\")\n",
    "preco2 = float(input(\"Qual o preço do produto? digite '0' para parar \"))\n",
    "while preco2 != 0:\n",
    "    preco = preco + preco2\n",
    "    preco2 = float(input(\"Qual o preço do produto? digite '0' para parar \"))\n",
    "if preco2 == 0:\n",
    "    print(\"Você quer que seja a vista?\")\n",
    "    print(\"1 = sim\")\n",
    "    print(\"2 = não\")\n",
    "    escolha = input()\n",
    "    if escolha == \"1\":\n",
    "        cobrar = preco * 0.95\n",
    "        print(\"O total foi \", cobrar)\n",
    "    elif escolha == \"2\":\n",
    "        cobrar = preco * 1\n",
    "        print(\"O total foi\", cobrar)"
   ]
  },
  {
   "cell_type": "code",
   "execution_count": null,
   "id": "53163c5e",
   "metadata": {},
   "outputs": [],
   "source": []
  }
 ],
 "metadata": {
  "kernelspec": {
   "display_name": "Python 3 (ipykernel)",
   "language": "python",
   "name": "python3"
  },
  "language_info": {
   "codemirror_mode": {
    "name": "ipython",
    "version": 3
   },
   "file_extension": ".py",
   "mimetype": "text/x-python",
   "name": "python",
   "nbconvert_exporter": "python",
   "pygments_lexer": "ipython3",
   "version": "3.10.7"
  }
 },
 "nbformat": 4,
 "nbformat_minor": 5
}
