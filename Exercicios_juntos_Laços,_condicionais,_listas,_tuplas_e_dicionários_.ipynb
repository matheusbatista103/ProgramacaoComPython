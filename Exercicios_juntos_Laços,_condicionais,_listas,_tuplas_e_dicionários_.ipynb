{
  "nbformat": 4,
  "nbformat_minor": 0,
  "metadata": {
    "colab": {
      "provenance": [],
      "include_colab_link": true
    },
    "kernelspec": {
      "name": "python3",
      "display_name": "Python 3"
    },
    "language_info": {
      "name": "python"
    }
  },
  "cells": [
    {
      "cell_type": "markdown",
      "metadata": {
        "id": "view-in-github",
        "colab_type": "text"
      },
      "source": [
        "<a href=\"https://colab.research.google.com/github/matheusbatista103/ProgramacaoComPython/blob/main/Exercicios_juntos_La%C3%A7os%2C_condicionais%2C_listas%2C_tuplas_e_dicion%C3%A1rios_.ipynb\" target=\"_parent\"><img src=\"https://colab.research.google.com/assets/colab-badge.svg\" alt=\"Open In Colab\"/></a>"
      ]
    },
    {
      "cell_type": "markdown",
      "source": [
        "Lista de Exercícios unindo tudo que foi ensinado até o momento:\n",
        "\n",
        "\n",
        "*   Condicionais\n",
        "*   Laços de Reptição\n",
        "*   Listas\n",
        "*   Tuplas\n",
        "*   Dicionários\n",
        "*   Manipulação de Strings\n",
        "\n",
        "\n",
        "\n",
        "\n",
        "\n"
      ],
      "metadata": {
        "id": "JsFcwNObBRcd"
      }
    },
    {
      "cell_type": "markdown",
      "source": [
        "# Tuplas - Acesso e Desempacotamento\n",
        "\n",
        "1) Crie uma tupla contendo três tipos diferentes de dados: um número, uma string e uma lista. Use um laço de repetição para acessar e imprimir cada item da tupla. Além disso, dentro do laço, acesse e imprima o segundo item da lista que está dentro da tupla."
      ],
      "metadata": {
        "id": "HM91bKpkBqGI"
      }
    },
    {
      "cell_type": "code",
      "source": [
        "dados = (24, \"Cíntia\",[1,2,3])\n",
        "\n",
        "for i in dados:\n",
        "  print(i)"
      ],
      "metadata": {
        "colab": {
          "base_uri": "https://localhost:8080/"
        },
        "id": "sCbCOqPVYeRv",
        "outputId": "4fbbf354-75e7-42b8-c4ad-c336d7d626c3"
      },
      "execution_count": null,
      "outputs": [
        {
          "output_type": "stream",
          "name": "stdout",
          "text": [
            "24\n",
            "Cíntia\n",
            "[1, 2, 3]\n"
          ]
        }
      ]
    },
    {
      "cell_type": "code",
      "source": [
        "print(\"segundo item:\", dados[1])"
      ],
      "metadata": {
        "colab": {
          "base_uri": "https://localhost:8080/"
        },
        "id": "pZ8TJ7EFYsjg",
        "outputId": "744fa4ed-aa7f-4688-aee1-762aff086d84"
      },
      "execution_count": null,
      "outputs": [
        {
          "output_type": "stream",
          "name": "stdout",
          "text": [
            "segundo item: Cíntia\n"
          ]
        }
      ]
    },
    {
      "cell_type": "markdown",
      "source": [
        "# Dicionários - Criação e Acesso\n",
        "## Cadastro de Pessoas e Análise de Alturas\n",
        "2) Solicite ao usuário para inserir o nome e a altura de várias pessoas. Preencha um dicionário com essas informações e depois encontre e imprima o nome e a altura da pessoa mais alta e da mais baixa."
      ],
      "metadata": {
        "id": "6vEHxGtjBxMi"
      }
    },
    {
      "cell_type": "code",
      "source": [
        "pessoas = {}\n",
        "\n",
        "while True:\n",
        "    nome = input(\"Insira o nome da pessoa (ou digite 'sair' para encerrar): \")\n",
        "    if nome.lower() == 'sair':\n",
        "        break\n",
        "    altura = float(input(f\"Insira a altura de {nome} em metros: \"))\n",
        "    pessoas[nome] = altura\n",
        "\n",
        "if pessoas:\n",
        "    mais_alta = max(pessoas, key=pessoas.get)\n",
        "    mais_baixa = min(pessoas, key=pessoas.get)\n",
        "\n",
        "    print(f\"A pessoa mais alta é {mais_alta} com {pessoas[mais_alta]} metros.\")\n",
        "    print(f\"A pessoa mais baixa é {mais_baixa} com {pessoas[mais_baixa]} metros.\")\n",
        "else:\n",
        "    print(\"Nenhuma pessoa foi cadastrada.\")"
      ],
      "metadata": {
        "id": "MpJYauvTZR69",
        "colab": {
          "base_uri": "https://localhost:8080/"
        },
        "outputId": "9b94a3b5-f511-4643-a9c9-84c59b6222dc"
      },
      "execution_count": 2,
      "outputs": [
        {
          "output_type": "stream",
          "name": "stdout",
          "text": [
            "Insira o nome da pessoa (ou digite 'sair' para encerrar): eu\n",
            "Insira a altura de eu em metros: 1.2\n",
            "Insira o nome da pessoa (ou digite 'sair' para encerrar): matheus\n",
            "Insira a altura de matheus em metros: 1.9\n",
            "Insira o nome da pessoa (ou digite 'sair' para encerrar): sair\n",
            "A pessoa mais alta é matheus com 1.9 metros.\n",
            "A pessoa mais baixa é eu com 1.2 metros.\n"
          ]
        }
      ]
    },
    {
      "cell_type": "markdown",
      "source": [
        "# Lista, laços e Condicionais\n",
        "3) Descrição: Crie uma listacom cinco números inteiros. Use um laço de repetição e uma condicional para imprimir apenas os números que são múltiplos de 3."
      ],
      "metadata": {
        "id": "FytD4QZyELAt"
      }
    },
    {
      "cell_type": "code",
      "source": [
        "numeros = [10, 15, 23, 9, 30]\n",
        "\n",
        "for numero in numeros:\n",
        "    if numero % 3 == 0:\n",
        "        print(numero)"
      ],
      "metadata": {
        "colab": {
          "base_uri": "https://localhost:8080/"
        },
        "id": "nEyVx6twNDfS",
        "outputId": "bb7e094f-61dc-4f5d-eea2-392e4132874d"
      },
      "execution_count": 3,
      "outputs": [
        {
          "output_type": "stream",
          "name": "stdout",
          "text": [
            "15\n",
            "9\n",
            "30\n"
          ]
        }
      ]
    },
    {
      "cell_type": "markdown",
      "source": [
        "# Manipulação de Strings e Condicionais\n",
        "4) Descrição: Crie uma string com uma frase. Use uma condicional para verificar se a frase contém a palavra \"Python\". Se sim, substitua a palavra \"Python\" por \"programação\" e imprima a nova frase."
      ],
      "metadata": {
        "id": "hwn3Fz8aEYSH"
      }
    },
    {
      "cell_type": "code",
      "source": [
        "frase = \"Estou aprendendo Python e é muito legal!\"\n",
        "\n",
        "if \"Python\" in frase:\n",
        "    nova_frase = frase.replace(\"Python\", \"programação\")\n",
        "    print(nova_frase)\n",
        "else:\n",
        "    print(\"A palavra 'Python' não foi encontrada na frase.\")\n"
      ],
      "metadata": {
        "colab": {
          "base_uri": "https://localhost:8080/"
        },
        "id": "f6T1VNdYNOiO",
        "outputId": "60eb2c21-44b4-471a-d5a2-0fd6049e2c1e"
      },
      "execution_count": 4,
      "outputs": [
        {
          "output_type": "stream",
          "name": "stdout",
          "text": [
            "Estou aprendendo programação e é muito legal!\n"
          ]
        }
      ]
    },
    {
      "cell_type": "markdown",
      "source": [
        "# Simulação de Alfândega com Cadastro Dinâmico de Itens usando dicionário\n",
        "5) Simule uma situação de alfândega onde o funcionário cadastra itens novos encontrados na mala de uma pessoa que veio de uma viagem internacional. Após o cadastro de todos os itens, o programa imprime uma nota com todos os itens e seus preços, calcula o valor total e, se o valor total ultrapassar 500 dólares, calcula o valor de 60% a ser pago."
      ],
      "metadata": {
        "id": "hPP-JNTxEwFT"
      }
    },
    {
      "cell_type": "code",
      "source": [
        "itens = {}\n",
        "\n",
        "while True:\n",
        "    item = input(\"Nome do item (ou 'sair' para encerrar): \")\n",
        "    if item.lower() == 'sair':\n",
        "        break\n",
        "    preco = float(input(f\"Preço de {item} em dólares: \"))\n",
        "    itens[item] = preco\n",
        "\n",
        "valor_total = sum(itens.values())\n",
        "\n",
        "print(\"\\nNota da Alfândega:\")\n",
        "for item, preco in itens.items():\n",
        "    print(f\"{item}: ${preco:.2f}\")\n",
        "\n",
        "print(f\"\\nValor total: ${valor_total:.2f}\")\n",
        "\n",
        "if valor_total > 500:\n",
        "    taxa = valor_total * 0.60\n",
        "    print(f\"\\nValor a ser pago (60% do total): ${taxa:.2f}\")\n",
        "else:\n",
        "    print(\"Não há taxa a ser paga.\")"
      ],
      "metadata": {
        "id": "bpor2o4DNibv"
      },
      "execution_count": null,
      "outputs": []
    },
    {
      "cell_type": "markdown",
      "source": [
        "# Identificação de Palavras Negativas em um Texto\n",
        "6) Você vai criar um programa em Python para analisar um texto e identificar palavras que expressam pensamentos negativos. Para isso, você usará uma lista de palavras negativas fornecida e verificará quais dessas palavras estão presentes no texto fornecido pelo usuário. Exemplo de palavras negtivas, acrescente mais na lista: # Lista de palavras negativas palavras_negativas = ['triste', 'deprimido', 'ansioso', 'desapontado', 'frustrado']"
      ],
      "metadata": {
        "id": "OH8D047zVsp-"
      }
    },
    {
      "cell_type": "code",
      "source": [
        "palavras_negativas = ['triste', 'deprimido', 'ansioso', 'desapontado', 'frustrado']\n",
        "\n",
        "texto = input(\"Digite um texto: \").lower()\n",
        "\n",
        "for palavra in palavras_negativas:\n",
        "    if palavra in texto:\n",
        "        print(f\"Palavra negativa encontrada: {palavra}\")"
      ],
      "metadata": {
        "id": "xDSrYWf_Vr8G",
        "colab": {
          "base_uri": "https://localhost:8080/"
        },
        "outputId": "2b4feaa1-d77c-42d2-eb09-2bc99c18826f"
      },
      "execution_count": 5,
      "outputs": [
        {
          "output_type": "stream",
          "name": "stdout",
          "text": [
            "Digite um texto: Estou triste e muito ansioso\n",
            "Palavra negativa encontrada: triste\n",
            "Palavra negativa encontrada: ansioso\n"
          ]
        }
      ]
    }
  ]
}